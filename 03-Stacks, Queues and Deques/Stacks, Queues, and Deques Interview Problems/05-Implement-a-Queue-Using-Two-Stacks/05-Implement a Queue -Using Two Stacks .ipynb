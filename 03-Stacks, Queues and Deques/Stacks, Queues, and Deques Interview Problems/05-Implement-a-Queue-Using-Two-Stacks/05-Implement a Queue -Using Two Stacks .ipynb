{
 "cells": [
  {
   "cell_type": "markdown",
   "metadata": {},
   "source": [
    "# Implement a Queue - Using Two Stacks\n",
    "\n",
    "Given the Stack class below, implement a Queue class using **two** stacks! Note, this is a \"classic\" interview problem. Use a Python list data structure as your Stack."
   ]
  },
  {
   "cell_type": "code",
   "execution_count": null,
   "metadata": {},
   "outputs": [],
   "source": [
    "# Uses lists instead of your own Stack class.\n",
    "stack1 = []\n",
    "stack2 = []"
   ]
  },
  {
   "cell_type": "markdown",
   "metadata": {},
   "source": [
    "## Solution\n",
    "\n",
    "Fill out your solution below:"
   ]
  },
  {
   "cell_type": "code",
   "execution_count": 1,
   "metadata": {},
   "outputs": [],
   "source": [
    "class Queue2Stacks(object):\n",
    "    \n",
    "    def __init__(self):\n",
    "        \n",
    "        # Two Stacks\n",
    "        self.stack1 = []\n",
    "        self.stack2 = []\n",
    "     \n",
    "    def enqueue(self,element):\n",
    "        self.stack1.append(element)\n",
    "    \n",
    "    def dequeue(self):\n",
    "        if not self.outstack:\n",
    "            while self.stack1:\n",
    "                self.stack2.append(self.stack1.pop())\n",
    "        return self.stack2.outstack.pop()"
   ]
  },
  {
   "cell_type": "code",
   "execution_count": null,
   "metadata": {},
   "outputs": [],
   "source": []
  },
  {
   "cell_type": "markdown",
   "metadata": {},
   "source": [
    "# Test Your Solution\n",
    "\n",
    "You should be able to tell with your current knowledge of Stacks and Queues if this is working as it should. For example, the following should print as such:"
   ]
  },
  {
   "cell_type": "code",
   "execution_count": null,
   "metadata": {},
   "outputs": [],
   "source": [
    "\"\"\"\n",
    "RUN THIS CELL TO CHECK THAT YOUR SOLUTION OUTPUT MAKES SENSE AND BEHAVES AS A QUEUE\n",
    "\"\"\"\n",
    "q = Queue2Stacks()\n",
    "\n",
    "for i in range(5):\n",
    "    q.enqueue(i)\n",
    "    \n",
    "for i in range(5):\n",
    "    print(q.dequeue())"
   ]
  },
  {
   "cell_type": "markdown",
   "metadata": {},
   "source": [
    "## Good Job!"
   ]
  },
  {
   "cell_type": "code",
   "execution_count": 4,
   "metadata": {},
   "outputs": [],
   "source": [
    "\n",
    "#this iis the singly linked list \n",
    "class Node(object):\n",
    "    def __init__(self,value):\n",
    "        self.value =value \n",
    "        self.nextnode = None "
   ]
  },
  {
   "cell_type": "code",
   "execution_count": 6,
   "metadata": {},
   "outputs": [],
   "source": [
    "a = Node(1)\n",
    "b = Node(3)\n",
    "c = Node(5)\n",
    "a.nextnode = b\n",
    "b.nextnode = c "
   ]
  },
  {
   "cell_type": "code",
   "execution_count": null,
   "metadata": {},
   "outputs": [],
   "source": [
    "#this is is doubly linked list whic has previous and next node \n",
    "class Doublylnkedlist(object):\n",
    "    def __init__(self,value):\n",
    "        self.value =value \n",
    "        self.nextnode = None \n",
    "        self.prevnode = None\n",
    "    "
   ]
  },
  {
   "cell_type": "code",
   "execution_count": null,
   "metadata": {},
   "outputs": [],
   "source": [
    "a = Doublylnkedlist(1)\n",
    "b = Doublylnkedlist(2)\n",
    "c = Doublylnkedlist(3)\n",
    "b.prevnode =a #this is setting ocnectinog for a and b node \n",
    "a.nextnode =b"
   ]
  },
  {
   "cell_type": "code",
   "execution_count": 10,
   "metadata": {},
   "outputs": [],
   "source": [
    "#singlylinkedlist cycle chekc solution \n",
    "#this isdone ysing two markers where echa marker2 is  ahead of marker 1 when the marker \n",
    "#ekkada logic entante just oka marker ni mundiki paminchi back rend u markers kaliste adi cycleic lendante ledu\n",
    "class Node(object):\n",
    "    def __init__(self, value):\n",
    "        self.value = value\n",
    "        self.nextnode = None\n",
    "    def cycle_check(node):\n",
    "        marker1 =node\n",
    "        marker2 =node\n",
    "        while marker2 != None and marker2.nextnode != None:\n",
    "            marker1 = marker1.nextnode\n",
    "            marker2 = marker2.nextnode.nextnode\n",
    "            if marker2 == marker1:\n",
    "                print(\"it is icycle \")\n",
    "                return True\n",
    "        return False \n",
    "\n",
    "\n",
    "a = Node(1)\n",
    "b = Node (2)\n"
   ]
  },
  {
   "cell_type": "code",
   "execution_count": null,
   "metadata": {},
   "outputs": [],
   "source": [
    "#LInkedl ist reversal in place \n",
    "#Note that when changinhg the pointer first head has to change to last one !!!!\n",
    "# just make sure to chanthe the pointers in the reverse difrectiion \n",
    "def reverse_lnkedlist(head):\n",
    "    current = head \n",
    "    prev = None #ekkada set chestham prev null so at last prev =head avthadi \n",
    "    nextnode = None\n",
    "    while current :\n",
    "        nextnode = current.nextnode \n",
    "        current.nextnode = prev\n",
    "        prev = current\n",
    "        current = nextnode\n",
    "    return prev\n",
    "\n",
    "         "
   ]
  },
  {
   "cell_type": "code",
   "execution_count": 17,
   "metadata": {},
   "outputs": [
    {
     "name": "stdout",
     "output_type": "stream",
     "text": [
      "0\n"
     ]
    }
   ],
   "source": [
    "def fact(n):\n",
    "    if n ==0 :\n",
    "        return 0 \n",
    "    else:\n",
    "        return n*fact(n-1)\n",
    "f =fact(5)\n",
    "print(f)"
   ]
  },
  {
   "cell_type": "code",
   "execution_count": 18,
   "metadata": {},
   "outputs": [
    {
     "ename": "SyntaxError",
     "evalue": "invalid character '–' (U+2013) (2716026492.py, line 10)",
     "output_type": "error",
     "traceback": [
      "\u001b[0;36m  File \u001b[0;32m\"/tmp/ipykernel_59472/2716026492.py\"\u001b[0;36m, line \u001b[0;32m10\u001b[0m\n\u001b[0;31m    let x = factorial(n – 1) times n [recursively invoke factorial\u001b[0m\n\u001b[0m                        ^\u001b[0m\n\u001b[0;31mSyntaxError\u001b[0m\u001b[0;31m:\u001b[0m invalid character '–' (U+2013)\n"
     ]
    }
   ],
   "source": [
    "#memoisation is an optimistaion technqie used \n",
    "# primarily to speed up computer programs by storing the results of expensive functiona calls and retunring the cached result when the same inputs occure agin .\n",
    "\n",
    "function factorial (n is a non-negative integer)\n",
    "    if n is 0 then\n",
    "        return 1 [by the convention that 0! = 1]\n",
    "    else if n is in lookup-table then\n",
    "        return lookup-table-value-for-n\n",
    "    else\n",
    "        let x = factorial(n – 1) times n [recursively invoke factorial\n",
    "                                         with the parameter 1 less than n]\n",
    "        store x in lookup-table in the nth slot [remember the result of n! for later]\n",
    "        return x\n",
    "    end if\n",
    "end function\n",
    "\n",
    "#while using the memoisation we usign \n"
   ]
  },
  {
   "cell_type": "code",
   "execution_count": 20,
   "metadata": {},
   "outputs": [
    {
     "data": {
      "text/plain": [
       "120"
      ]
     },
     "execution_count": 20,
     "metadata": {},
     "output_type": "execute_result"
    }
   ],
   "source": [
    "factorial_= {}#here we are saving in dict ,if not present then we weill calclaute if not just aceesfrom disctonaruy\n",
    "\n",
    "def factorial_mem(k):\n",
    "    if k<2: \n",
    "        return 1\n",
    "    if k not in factorial_:\n",
    "        factorial_[k] =k*factorial_mem(k-1)\n",
    "    return factorial_[k]\n",
    "factorial_mem(5)\n"
   ]
  },
  {
   "cell_type": "code",
   "execution_count": null,
   "metadata": {},
   "outputs": [],
   "source": [
    "class BinaryTree(object):\n",
    "    def __init__(self,rootobj):\n",
    "        self.key= rootobj\n",
    "\n",
    "    def insertLeft()"
   ]
  },
  {
   "cell_type": "code",
   "execution_count": null,
   "metadata": {},
   "outputs": [],
   "source": [
    "def seq_search(arr,ele):\n",
    "    pos = 0\n",
    "    found = False\n",
    "    while pos < len(arr) and not found :\n",
    "        if arr[pos] == ele :\n",
    "            founo = True\n",
    "        else : \n",
    "            pos = pos+1\n",
    "    return found"
   ]
  }
 ],
 "metadata": {
  "kernelspec": {
   "display_name": "Python 3.10.6 64-bit",
   "language": "python",
   "name": "python3"
  },
  "language_info": {
   "codemirror_mode": {
    "name": "ipython",
    "version": 3
   },
   "file_extension": ".py",
   "mimetype": "text/x-python",
   "name": "python",
   "nbconvert_exporter": "python",
   "pygments_lexer": "ipython3",
   "version": "3.10.6"
  },
  "vscode": {
   "interpreter": {
    "hash": "916dbcbb3f70747c44a77c7bcd40155683ae19c65e1c03b4aa3499c5328201f1"
   }
  }
 },
 "nbformat": 4,
 "nbformat_minor": 1
}
